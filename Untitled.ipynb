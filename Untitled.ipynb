{
 "cells": [
  {
   "cell_type": "markdown",
   "id": "bd5a975c",
   "metadata": {},
   "source": [
    "# Ушаков Иван Кириллович 321 группа"
   ]
  },
  {
   "cell_type": "markdown",
   "id": "91fbc78a",
   "metadata": {},
   "source": [
    "### Задача 1. Совокупные издержки производства оцениваются в 100000 долларов в месяц при объеме выпуска 1000 штук. Постоянные издержки составляют 40000 долларов в месяц. Определите средние издержки, средние переменные и средние постоянные издержки \n"
   ]
  },
  {
   "cell_type": "code",
   "execution_count": 27,
   "id": "c293bb16",
   "metadata": {},
   "outputs": [
    {
     "name": "stdout",
     "output_type": "stream",
     "text": [
      "ОТВЕТ: \n",
      "Average Total Cost =  100.0 \n",
      "Average Variable Cost =  60.0 \n",
      "Average Fixed Cost =  40.0\n"
     ]
    }
   ],
   "source": [
    "TC = 100000\n",
    "Q = 1000\n",
    "FC = 40000\n",
    "\n",
    "ATC = TC / Q\n",
    "AVC = (TC - FC)/Q\n",
    "AFC = FC / Q\n",
    "\n",
    "print(\"ОТВЕТ: \\nAverage Total Cost = \", ATC,\"\\nAverage Variable Cost = \", AVC, \"\\nAverage Fixed Cost = \", AFC)"
   ]
  },
  {
   "cell_type": "markdown",
   "id": "67ad25a2",
   "metadata": {},
   "source": [
    "### Задача 2. Предположим, Вы содержите и управляете конкурентной фирмой по производству помидоров. Текущая цена - 1 доллар за фунт. При этой цене производится 100000 фунтов в год. Средние издержки производства при этом уровне выпуска составляют - 0,5 долларов за фунт. Какой будет прибыль фирмы?"
   ]
  },
  {
   "cell_type": "code",
   "execution_count": 11,
   "id": "8b134d21",
   "metadata": {},
   "outputs": [
    {
     "name": "stdout",
     "output_type": "stream",
     "text": [
      "ОТВЕТ: Прибыль фирмы:  50000.0\n"
     ]
    }
   ],
   "source": [
    "P = 1\n",
    "Q = 100000\n",
    "ATC = 0,5\n",
    "\n",
    "Pr = Q*(P - ATC)\n",
    "print(\"ОТВЕТ: Прибыль фирмы: \", Pr)"
   ]
  },
  {
   "cell_type": "markdown",
   "id": "5facd224",
   "metadata": {},
   "source": [
    "### Задача 3. Постоянные затраты по производству продукции за месяц составляют 600 тыс. руб., переменные затраты на 1 кг изделий – 30 руб. Предприятие реализует свои изделия магазинам по цене 45 руб. за 1 кг. \n",
    "### Рассчитайте: Каким должен быть объем реализации продукции для получения прибыли в размере 210 тыс. руб.? Определите точку безубыточности в количественном и денежном выражении."
   ]
  },
  {
   "cell_type": "code",
   "execution_count": 18,
   "id": "0d80be8e",
   "metadata": {},
   "outputs": [
    {
     "name": "stdout",
     "output_type": "stream",
     "text": [
      "ОТВЕТ: Объём реализации:  2430000.0\n",
      "ОТВЕТ: Точка безубыточности в кол0ве:  40000.0\n",
      "ОТВЕТ: Точка безубыточности в деньгах:  1800000.0\n"
     ]
    }
   ],
   "source": [
    "FC = 600000\n",
    "VC = 30 #on a one kilo \n",
    "P = 45 #on a kilo\n",
    "#Q=?\n",
    "Pr = 210000\n",
    "#Pr = Q*(P - VC) - FC => Q = (Pr + FC) / (P - VC)\n",
    "print(\"ОТВЕТ: Объём реализации: \", (P*(Pr + FC)) / (P - VC))\n",
    "#0 = Q*(P - VC) - FC => Q =  FC / (P - VC)\n",
    "print(\"ОТВЕТ: Точка безубыточности в кол0ве: \", FC / (P - VC))\n",
    "print(\"ОТВЕТ: Точка безубыточности в деньгах: \", FC*P / (P - VC))"
   ]
  },
  {
   "cell_type": "markdown",
   "id": "e4e27fa2",
   "metadata": {},
   "source": [
    "### Задача 4. Инвестиционный проект имеет капитальные вложения в размере 170 000 руб., а ожидаемые чистые денежные поступления составляют 80 000 руб. в год в течение трех лет. Какова чистая приведенная стоимость проекта (NPV), если средняя доходность на рынке равна 7%? Округлить необходимо до целой части."
   ]
  },
  {
   "cell_type": "code",
   "execution_count": 25,
   "id": "d95ad37c",
   "metadata": {},
   "outputs": [
    {
     "name": "stdout",
     "output_type": "stream",
     "text": [
      "ОТВЕТ: Рализовывать можно. Величина:  39945\n"
     ]
    }
   ],
   "source": [
    "NPV = -170000\n",
    "for i in range (1, 4):\n",
    "    NPV += (80000/(1.07**i))\n",
    "    \n",
    "if NPV > 0:\n",
    "    print(\"ОТВЕТ: Рализовывать можно. Величина: \", int(NPV))\n",
    "else:\n",
    "    print(\"ОТВЕТ: Рализовывать нельзя. Величина: \", int(NPV))"
   ]
  },
  {
   "cell_type": "markdown",
   "id": "ed81859a",
   "metadata": {},
   "source": [
    "# END"
   ]
  },
  {
   "cell_type": "code",
   "execution_count": null,
   "id": "2dd9babc",
   "metadata": {},
   "outputs": [],
   "source": []
  }
 ],
 "metadata": {
  "kernelspec": {
   "display_name": "Python 3 (ipykernel)",
   "language": "python",
   "name": "python3"
  },
  "language_info": {
   "codemirror_mode": {
    "name": "ipython",
    "version": 3
   },
   "file_extension": ".py",
   "mimetype": "text/x-python",
   "name": "python",
   "nbconvert_exporter": "python",
   "pygments_lexer": "ipython3",
   "version": "3.9.7"
  }
 },
 "nbformat": 4,
 "nbformat_minor": 5
}
